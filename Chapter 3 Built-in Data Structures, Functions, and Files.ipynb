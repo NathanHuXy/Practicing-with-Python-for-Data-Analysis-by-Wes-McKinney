{
 "cells": [
  {
   "cell_type": "markdown",
   "id": "68d1fab9",
   "metadata": {},
   "source": [
    "1. Using `extend`(instead of `+`) to append elements to an existing list, especially if you are building up a large list, is usually preferable.\n"
   ]
  },
  {
   "cell_type": "markdown",
   "id": "04b58fdb",
   "metadata": {},
   "source": [
    "2. `enumerate()` returns a sequence of `(i,value)` tuples."
   ]
  },
  {
   "cell_type": "code",
   "execution_count": 3,
   "id": "db0f959d",
   "metadata": {},
   "outputs": [
    {
     "name": "stdout",
     "output_type": "stream",
     "text": [
      "0:Nathan\n",
      "1:Wendy\n",
      "2:Sunny\n"
     ]
    }
   ],
   "source": [
    "ls = ['Nathan','Wendy','Sunny']\n",
    "for i,value in enumerate(ls):\n",
    "    print(\"{}:{}\".format(i,value))"
   ]
  },
  {
   "cell_type": "markdown",
   "id": "a09fb750",
   "metadata": {},
   "source": [
    "3. `zip` pairs up the elements of a number of lists, tuples, or other sequences to creat a list of tuples. The number of tuples is determined by the shortest args."
   ]
  },
  {
   "cell_type": "code",
   "execution_count": 6,
   "id": "51d028a3",
   "metadata": {},
   "outputs": [
    {
     "data": {
      "text/plain": [
       "[('Nathan', '1231'), ('Wendy', '1021'), ('Sunny', '1222')]"
      ]
     },
     "execution_count": 6,
     "metadata": {},
     "output_type": "execute_result"
    }
   ],
   "source": [
    "ls2 = ['1231','1021','1222']\n",
    "pichers = list(zip(ls,ls2))\n",
    "pichers"
   ]
  },
  {
   "cell_type": "markdown",
   "id": "358aaa7c",
   "metadata": {},
   "source": [
    "4. Use `zip(*)` to unzip the sequence."
   ]
  },
  {
   "cell_type": "code",
   "execution_count": 9,
   "id": "1fbb10a5",
   "metadata": {},
   "outputs": [
    {
     "name": "stdout",
     "output_type": "stream",
     "text": [
      "('Nathan', 'Wendy', 'Sunny')\n",
      "('1231', '1021', '1222')\n"
     ]
    }
   ],
   "source": [
    "a,b=zip(*pichers)\n",
    "print(a)\n",
    "print(b)"
   ]
  },
  {
   "cell_type": "markdown",
   "id": "519a56ab",
   "metadata": {},
   "source": [
    "5. Dict is also named as hash map, inferring its fastness."
   ]
  },
  {
   "cell_type": "markdown",
   "id": "53374a44",
   "metadata": {},
   "source": [
    "6. Default values of dict:`value = some_dict.get(key,default_value)`. Invoking `setdefault()` can replace the for-loop in the closely next block."
   ]
  },
  {
   "cell_type": "code",
   "execution_count": 21,
   "id": "b8a6c298",
   "metadata": {},
   "outputs": [
    {
     "data": {
      "text/plain": [
       "{'a': ['apple', 'atom'], 'b': ['bat', 'bar', 'book']}"
      ]
     },
     "execution_count": 21,
     "metadata": {},
     "output_type": "execute_result"
    }
   ],
   "source": [
    "words = ['apple','bat','bar','atom','book']\n",
    "byletter={}\n",
    "\n",
    "for word in words:\n",
    "    letter = word[0]\n",
    "    if letter not in byletter:\n",
    "        byletter[letter]=[word]\n",
    "    else:\n",
    "        byletter[letter].append(word)\n",
    "\n",
    "byletter"
   ]
  },
  {
   "cell_type": "code",
   "execution_count": 26,
   "id": "65ea1a8d",
   "metadata": {},
   "outputs": [
    {
     "data": {
      "text/plain": [
       "{'a': ['apple', 'atom'], 'b': ['bat', 'bar', 'book']}"
      ]
     },
     "execution_count": 26,
     "metadata": {},
     "output_type": "execute_result"
    }
   ],
   "source": [
    "# A cleaner way\n",
    "\n",
    "byletter={}\n",
    "\n",
    "for word in words:\n",
    "    letter = word[0]\n",
    "    byletter.setdefault(letter,[]).append(word)\n",
    "\n",
    "byletter"
   ]
  },
  {
   "cell_type": "markdown",
   "id": "f209e681",
   "metadata": {},
   "source": [
    "7. Check whether a \"thing\" can be used as a key of a dict with function `hash`. If the \"thing\" is hashable, then it can be used as a key of a dict."
   ]
  },
  {
   "cell_type": "code",
   "execution_count": 38,
   "id": "dacebe13",
   "metadata": {},
   "outputs": [
    {
     "data": {
      "text/plain": [
       "7830322934641392885"
      ]
     },
     "execution_count": 38,
     "metadata": {},
     "output_type": "execute_result"
    }
   ],
   "source": [
    "hash('sdlfkj')\n",
    "# can be used as a key"
   ]
  },
  {
   "cell_type": "code",
   "execution_count": 30,
   "id": "98163982",
   "metadata": {},
   "outputs": [
    {
     "data": {
      "text/plain": [
       "529344067295497451"
      ]
     },
     "execution_count": 30,
     "metadata": {},
     "output_type": "execute_result"
    }
   ],
   "source": [
    "hash((1,2,3))\n",
    "# can be used as a key(proved below)"
   ]
  },
  {
   "cell_type": "code",
   "execution_count": 41,
   "id": "0b68c659",
   "metadata": {},
   "outputs": [
    {
     "data": {
      "text/plain": [
       "{(1, 2, 3): 's'}"
      ]
     },
     "execution_count": 41,
     "metadata": {},
     "output_type": "execute_result"
    }
   ],
   "source": [
    "some_dict = {(1,2,3):'s'}\n",
    "some_dict"
   ]
  },
  {
   "cell_type": "code",
   "execution_count": 42,
   "id": "e22a487e",
   "metadata": {},
   "outputs": [
    {
     "ename": "TypeError",
     "evalue": "unhashable type: 'list'",
     "output_type": "error",
     "traceback": [
      "\u001b[0;31m---------------------------------------------------------------------------\u001b[0m",
      "\u001b[0;31mTypeError\u001b[0m                                 Traceback (most recent call last)",
      "Input \u001b[0;32mIn [42]\u001b[0m, in \u001b[0;36m<cell line: 1>\u001b[0;34m()\u001b[0m\n\u001b[0;32m----> 1\u001b[0m \u001b[38;5;28;43mhash\u001b[39;49m\u001b[43m(\u001b[49m\u001b[43m(\u001b[49m\u001b[38;5;241;43m1\u001b[39;49m\u001b[43m,\u001b[49m\u001b[38;5;241;43m2\u001b[39;49m\u001b[43m,\u001b[49m\u001b[43m[\u001b[49m\u001b[38;5;241;43m2\u001b[39;49m\u001b[43m,\u001b[49m\u001b[38;5;241;43m3\u001b[39;49m\u001b[43m]\u001b[49m\u001b[43m)\u001b[49m\u001b[43m)\u001b[49m\n",
      "\u001b[0;31mTypeError\u001b[0m: unhashable type: 'list'"
     ]
    }
   ],
   "source": [
    "hash((1,2,[2,3]))"
   ]
  },
  {
   "cell_type": "markdown",
   "id": "f7a310a1",
   "metadata": {},
   "source": [
    "8. \n",
    "\n",
    "List comprehensions `[expr for val in collection if condition]`\n",
    "\n",
    "dict comprehensions `{key-expr:value-expr for value in collection if condition}`\n",
    "\n",
    "set comprehensions `{expr for value in collection if condition}`\n",
    "\n",
    "_Actually, you can include several `for`s in the comprehensions! See downward.__But notice there're some sequential differences if you're creating multi-level comprehensions.___\n",
    "\n",
    "___Remember there's no tuple comprehensions: it's a -> generator expresion!!!___"
   ]
  },
  {
   "cell_type": "code",
   "execution_count": 44,
   "id": "e0413626",
   "metadata": {},
   "outputs": [
    {
     "data": {
      "text/plain": [
       "['BAT', 'CAR', 'DOVE', 'PYTHON']"
      ]
     },
     "execution_count": 44,
     "metadata": {},
     "output_type": "execute_result"
    }
   ],
   "source": [
    "strings = ['a','as','bat','car','dove','python']\n",
    "[string.upper() for string in strings if len(string)>2]"
   ]
  },
  {
   "cell_type": "code",
   "execution_count": 49,
   "id": "60a88726",
   "metadata": {},
   "outputs": [
    {
     "name": "stdout",
     "output_type": "stream",
     "text": [
      "[1, 2, 3, 4, 5, 6, 7, 8, 9]\n"
     ]
    }
   ],
   "source": [
    "tuple_in_tuple = ((1,2,3),(4,5,6),(7,8,9))\n",
    "result = [x for tup in tuple_in_tuple for x in tup]\n",
    "print(result)"
   ]
  },
  {
   "cell_type": "code",
   "execution_count": 50,
   "id": "61538913",
   "metadata": {},
   "outputs": [
    {
     "data": {
      "text/plain": [
       "[[1, 2, 3], [4, 5, 6], [7, 8, 9]]"
      ]
     },
     "execution_count": 50,
     "metadata": {},
     "output_type": "execute_result"
    }
   ],
   "source": [
    "result2 = [[x for x in tup] for tup in tuple_in_tuple]\n",
    "result2"
   ]
  },
  {
   "cell_type": "markdown",
   "id": "99f40135",
   "metadata": {},
   "source": [
    "9. Generators:\n",
    "\n",
    "    1. `iter()` function;\n",
    "    2. `yield` something in a function, and by invoke the function, thus creat a iterator;\n",
    "    3. Use generator expressions: 'tuple comprehensions'(although they don't exist);\n",
    "    4. Use `itertools` to creat any generators you need."
   ]
  },
  {
   "cell_type": "code",
   "execution_count": 53,
   "id": "71e5ca5b",
   "metadata": {},
   "outputs": [],
   "source": [
    "def squares(n=10):\n",
    "    for i in range(1,n+1):\n",
    "        yield i**2"
   ]
  },
  {
   "cell_type": "code",
   "execution_count": 55,
   "id": "e30ba02f",
   "metadata": {},
   "outputs": [
    {
     "data": {
      "text/plain": [
       "<generator object squares at 0x7f7e496993c0>"
      ]
     },
     "execution_count": 55,
     "metadata": {},
     "output_type": "execute_result"
    }
   ],
   "source": [
    "gen = squares()\n",
    "gen"
   ]
  },
  {
   "cell_type": "code",
   "execution_count": 58,
   "id": "6dc1bf26",
   "metadata": {},
   "outputs": [
    {
     "name": "stdout",
     "output_type": "stream",
     "text": [
      "4 9 16 25 36 49 64 81 100 "
     ]
    }
   ],
   "source": [
    "for i in gen:\n",
    "    print(i,end=' ')"
   ]
  },
  {
   "cell_type": "code",
   "execution_count": 59,
   "id": "d2ce4115",
   "metadata": {},
   "outputs": [
    {
     "data": {
      "text/plain": [
       "<generator object <genexpr> at 0x7f7e49699970>"
      ]
     },
     "execution_count": 59,
     "metadata": {},
     "output_type": "execute_result"
    }
   ],
   "source": [
    "#Generator expressions\n",
    "gen = (x**2 for x in range(1,11))\n",
    "gen"
   ]
  },
  {
   "cell_type": "code",
   "execution_count": 61,
   "id": "79b15000",
   "metadata": {},
   "outputs": [],
   "source": [
    "for i in gen:\n",
    "    print(i,end=' ')"
   ]
  },
  {
   "cell_type": "code",
   "execution_count": 64,
   "id": "60382e57",
   "metadata": {},
   "outputs": [
    {
     "name": "stdout",
     "output_type": "stream",
     "text": [
      "A ['Alan', 'Adam']\n",
      "W ['Wes', 'Will']\n",
      "A ['Alber']\n",
      "S ['Steven']\n"
     ]
    }
   ],
   "source": [
    "import itertools\n",
    "first_letter = lambda x: x[0]\n",
    "names = ['Alan','Adam','Wes','Will','Alber','Steven']\n",
    "for letter,names in itertools.groupby(names,first_letter):\n",
    "    print(letter,list(names))"
   ]
  },
  {
   "cell_type": "code",
   "execution_count": 70,
   "id": "d208f3f4",
   "metadata": {},
   "outputs": [
    {
     "data": {
      "text/plain": [
       "'utf-8'"
      ]
     },
     "execution_count": 70,
     "metadata": {},
     "output_type": "execute_result"
    }
   ],
   "source": [
    "import sys\n",
    "sys.getdefaultencoding()"
   ]
  },
  {
   "cell_type": "code",
   "execution_count": null,
   "id": "3d6604bc",
   "metadata": {},
   "outputs": [],
   "source": []
  }
 ],
 "metadata": {
  "kernelspec": {
   "display_name": "Python 3 (ipykernel)",
   "language": "python",
   "name": "python3"
  },
  "language_info": {
   "codemirror_mode": {
    "name": "ipython",
    "version": 3
   },
   "file_extension": ".py",
   "mimetype": "text/x-python",
   "name": "python",
   "nbconvert_exporter": "python",
   "pygments_lexer": "ipython3",
   "version": "3.9.12"
  }
 },
 "nbformat": 4,
 "nbformat_minor": 5
}
