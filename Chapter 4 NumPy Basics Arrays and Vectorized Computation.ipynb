{
 "cells": [
  {
   "cell_type": "code",
   "execution_count": 1,
   "id": "99ac0e76",
   "metadata": {},
   "outputs": [],
   "source": [
    "import numpy as np"
   ]
  },
  {
   "cell_type": "code",
   "execution_count": 2,
   "id": "0a7756fc",
   "metadata": {},
   "outputs": [],
   "source": [
    "my_arr = np.arange(1000000)\n",
    "my_list = list(range(1000000))"
   ]
  },
  {
   "cell_type": "code",
   "execution_count": 3,
   "id": "c2a8db6f",
   "metadata": {},
   "outputs": [
    {
     "name": "stdout",
     "output_type": "stream",
     "text": [
      "CPU times: user 5.72 ms, sys: 5.54 ms, total: 11.3 ms\n",
      "Wall time: 10.4 ms\n"
     ]
    }
   ],
   "source": [
    "%time for _ in range(10):my_arr = my_arr*2"
   ]
  },
  {
   "cell_type": "code",
   "execution_count": 4,
   "id": "d8696de2",
   "metadata": {},
   "outputs": [
    {
     "name": "stdout",
     "output_type": "stream",
     "text": [
      "CPU times: user 417 ms, sys: 66 ms, total: 483 ms\n",
      "Wall time: 483 ms\n"
     ]
    }
   ],
   "source": [
    "%time for _ in range(10):my_list = [x*2 for x in my_list]"
   ]
  },
  {
   "cell_type": "markdown",
   "id": "99b20942",
   "metadata": {},
   "source": [
    "1. Whenever you see \"array\", \"Numpy array\", \"ndarray\", in the text, with few exceptions they all refer to the same thing: __the ndarray object.__"
   ]
  },
  {
   "cell_type": "markdown",
   "id": "5eeb33b7",
   "metadata": {},
   "source": [
    "# Arithmetic with NumPy Arrays\n",
    "- Arithmetic operations with scalars propagate the scalar argument to each element in the array, such as `* + - / **` `><=`."
   ]
  },
  {
   "cell_type": "code",
   "execution_count": 16,
   "id": "47a73631",
   "metadata": {},
   "outputs": [
    {
     "data": {
      "text/plain": [
       "array([[1, 2, 3],\n",
       "       [4, 5, 6]])"
      ]
     },
     "execution_count": 16,
     "metadata": {},
     "output_type": "execute_result"
    }
   ],
   "source": [
    "arr = np.array([[1,2,3],[4,5,6]])\n",
    "arr"
   ]
  },
  {
   "cell_type": "code",
   "execution_count": 6,
   "id": "2c6c79ac",
   "metadata": {},
   "outputs": [
    {
     "data": {
      "text/plain": [
       "array([[ 1,  4,  9],\n",
       "       [16, 25, 36]])"
      ]
     },
     "execution_count": 6,
     "metadata": {},
     "output_type": "execute_result"
    }
   ],
   "source": [
    "arr * arr"
   ]
  },
  {
   "cell_type": "code",
   "execution_count": 7,
   "id": "a66f22c1",
   "metadata": {},
   "outputs": [
    {
     "data": {
      "text/plain": [
       "array([[1.        , 0.5       , 0.33333333],\n",
       "       [0.25      , 0.2       , 0.16666667]])"
      ]
     },
     "execution_count": 7,
     "metadata": {},
     "output_type": "execute_result"
    }
   ],
   "source": [
    "1/arr"
   ]
  },
  {
   "cell_type": "code",
   "execution_count": 8,
   "id": "fea7a0d8",
   "metadata": {},
   "outputs": [
    {
     "data": {
      "text/plain": [
       "array([[False, False,  True],\n",
       "       [ True,  True,  True]])"
      ]
     },
     "execution_count": 8,
     "metadata": {},
     "output_type": "execute_result"
    }
   ],
   "source": [
    "arr>2"
   ]
  },
  {
   "cell_type": "markdown",
   "id": "abaef3ff",
   "metadata": {},
   "source": [
    "2. If you change values in a slice, the original data will be changed also, which is different from built-in list in Python. If you want a \"copy\" of the ndarray, use `.copy()` explicitly."
   ]
  },
  {
   "cell_type": "markdown",
   "id": "371ca00b",
   "metadata": {},
   "source": [
    "- Note the dimentions of the slice:\n",
    "__Nothe the colon itself take the entile axis. So if you want a slice with higher dimention, don't pass a single colon to slice. Shit happens when slicing to a \"vector\"!__\n",
    "![Figure 4-2(from the book)](https://pic.imgdb.cn/item/63031b1016f2c2beb1d8dc05.jpg)"
   ]
  },
  {
   "cell_type": "code",
   "execution_count": 9,
   "id": "5568fd87",
   "metadata": {},
   "outputs": [],
   "source": [
    "names = np.array(['Bob', 'Joe', 'Will', 'Bob', 'Will', 'Joe', 'Joe'])\n",
    "data = np.random.randn(7,4)"
   ]
  },
  {
   "cell_type": "code",
   "execution_count": 10,
   "id": "f395a2d9",
   "metadata": {},
   "outputs": [
    {
     "data": {
      "text/plain": [
       "array(['Bob', 'Joe', 'Will', 'Bob', 'Will', 'Joe', 'Joe'], dtype='<U4')"
      ]
     },
     "execution_count": 10,
     "metadata": {},
     "output_type": "execute_result"
    }
   ],
   "source": [
    "names"
   ]
  },
  {
   "cell_type": "code",
   "execution_count": 11,
   "id": "57c13844",
   "metadata": {},
   "outputs": [
    {
     "data": {
      "text/plain": [
       "array([[-0.70785322, -0.73378579,  2.80666951, -1.55720321],\n",
       "       [-1.69120972,  0.83691689, -1.06738982, -1.08504116],\n",
       "       [ 0.69818248,  0.7362491 , -0.73447254,  0.61330839],\n",
       "       [-0.9661357 , -0.09093103,  1.65055547, -0.10387157],\n",
       "       [-1.0413339 ,  0.07222072, -0.72012347,  0.44347172],\n",
       "       [ 0.34730861,  0.13612762, -0.77909112,  0.31603718],\n",
       "       [-0.69166991,  1.68680442,  0.05962128, -1.02441701]])"
      ]
     },
     "execution_count": 11,
     "metadata": {},
     "output_type": "execute_result"
    }
   ],
   "source": [
    "data"
   ]
  },
  {
   "cell_type": "code",
   "execution_count": 12,
   "id": "6e8a4186",
   "metadata": {},
   "outputs": [
    {
     "data": {
      "text/plain": [
       "array([ True, False, False,  True, False, False, False])"
      ]
     },
     "execution_count": 12,
     "metadata": {},
     "output_type": "execute_result"
    }
   ],
   "source": [
    "names=='Bob'"
   ]
  },
  {
   "cell_type": "code",
   "execution_count": 17,
   "id": "5370dc32",
   "metadata": {},
   "outputs": [],
   "source": [
    "data[names=='Bob']=0"
   ]
  },
  {
   "cell_type": "markdown",
   "id": "6b9108a5",
   "metadata": {},
   "source": [
    "- Selecting data from an array by boolean indexing always creats a copy of the data, even if the returned array is unchanged."
   ]
  },
  {
   "cell_type": "code",
   "execution_count": 18,
   "id": "f2645cc2",
   "metadata": {},
   "outputs": [
    {
     "data": {
      "text/plain": [
       "array([[ 0.        ,  0.        ,  0.        ,  0.        ],\n",
       "       [-1.69120972,  0.83691689, -1.06738982, -1.08504116],\n",
       "       [ 0.69818248,  0.7362491 , -0.73447254,  0.61330839],\n",
       "       [ 0.        ,  0.        ,  0.        ,  0.        ],\n",
       "       [-1.0413339 ,  0.07222072, -0.72012347,  0.44347172],\n",
       "       [ 0.34730861,  0.13612762, -0.77909112,  0.31603718],\n",
       "       [-0.69166991,  1.68680442,  0.05962128, -1.02441701]])"
      ]
     },
     "execution_count": 18,
     "metadata": {},
     "output_type": "execute_result"
    }
   ],
   "source": [
    "data"
   ]
  },
  {
   "cell_type": "code",
   "execution_count": 20,
   "id": "16ac1237",
   "metadata": {},
   "outputs": [
    {
     "data": {
      "text/plain": [
       "array([[ 0,  1,  2,  3,  4],\n",
       "       [ 5,  6,  7,  8,  9],\n",
       "       [10, 11, 12, 13, 14]])"
      ]
     },
     "execution_count": 20,
     "metadata": {},
     "output_type": "execute_result"
    }
   ],
   "source": [
    "arr = np.arange(15).reshape((3,5))\n",
    "arr"
   ]
  },
  {
   "cell_type": "code",
   "execution_count": 22,
   "id": "629de635",
   "metadata": {},
   "outputs": [
    {
     "data": {
      "text/plain": [
       "array([[ 0,  5, 10],\n",
       "       [ 1,  6, 11],\n",
       "       [ 2,  7, 12],\n",
       "       [ 3,  8, 13],\n",
       "       [ 4,  9, 14]])"
      ]
     },
     "execution_count": 22,
     "metadata": {},
     "output_type": "execute_result"
    }
   ],
   "source": [
    "arr.T"
   ]
  },
  {
   "cell_type": "markdown",
   "id": "5bf00b95",
   "metadata": {},
   "source": [
    "3. Universal Functions are functions that performs __element-wise operations__ on data in ndarrays."
   ]
  },
  {
   "cell_type": "code",
   "execution_count": 23,
   "id": "6ef9a581",
   "metadata": {},
   "outputs": [],
   "source": [
    "points = np.arange(-5,5,0.01)\n",
    "xs,ys = np.meshgrid(points,points)"
   ]
  },
  {
   "cell_type": "code",
   "execution_count": 24,
   "id": "8aa0dd12",
   "metadata": {},
   "outputs": [
    {
     "data": {
      "text/plain": [
       "array([[-5.  , -4.99, -4.98, ...,  4.97,  4.98,  4.99],\n",
       "       [-5.  , -4.99, -4.98, ...,  4.97,  4.98,  4.99],\n",
       "       [-5.  , -4.99, -4.98, ...,  4.97,  4.98,  4.99],\n",
       "       ...,\n",
       "       [-5.  , -4.99, -4.98, ...,  4.97,  4.98,  4.99],\n",
       "       [-5.  , -4.99, -4.98, ...,  4.97,  4.98,  4.99],\n",
       "       [-5.  , -4.99, -4.98, ...,  4.97,  4.98,  4.99]])"
      ]
     },
     "execution_count": 24,
     "metadata": {},
     "output_type": "execute_result"
    }
   ],
   "source": [
    "xs"
   ]
  },
  {
   "cell_type": "code",
   "execution_count": 25,
   "id": "7fab152a",
   "metadata": {},
   "outputs": [
    {
     "data": {
      "text/plain": [
       "array([[-5.  , -5.  , -5.  , ..., -5.  , -5.  , -5.  ],\n",
       "       [-4.99, -4.99, -4.99, ..., -4.99, -4.99, -4.99],\n",
       "       [-4.98, -4.98, -4.98, ..., -4.98, -4.98, -4.98],\n",
       "       ...,\n",
       "       [ 4.97,  4.97,  4.97, ...,  4.97,  4.97,  4.97],\n",
       "       [ 4.98,  4.98,  4.98, ...,  4.98,  4.98,  4.98],\n",
       "       [ 4.99,  4.99,  4.99, ...,  4.99,  4.99,  4.99]])"
      ]
     },
     "execution_count": 25,
     "metadata": {},
     "output_type": "execute_result"
    }
   ],
   "source": [
    "ys"
   ]
  },
  {
   "cell_type": "code",
   "execution_count": 26,
   "id": "9059b6f9",
   "metadata": {},
   "outputs": [],
   "source": [
    "z = np.sqrt(xs**2+ys**2)"
   ]
  },
  {
   "cell_type": "code",
   "execution_count": 27,
   "id": "170b0be6",
   "metadata": {},
   "outputs": [
    {
     "data": {
      "text/plain": [
       "array([[7.07106781, 7.06400028, 7.05693985, ..., 7.04988652, 7.05693985,\n",
       "        7.06400028],\n",
       "       [7.06400028, 7.05692568, 7.04985815, ..., 7.04279774, 7.04985815,\n",
       "        7.05692568],\n",
       "       [7.05693985, 7.04985815, 7.04278354, ..., 7.03571603, 7.04278354,\n",
       "        7.04985815],\n",
       "       ...,\n",
       "       [7.04988652, 7.04279774, 7.03571603, ..., 7.0286414 , 7.03571603,\n",
       "        7.04279774],\n",
       "       [7.05693985, 7.04985815, 7.04278354, ..., 7.03571603, 7.04278354,\n",
       "        7.04985815],\n",
       "       [7.06400028, 7.05692568, 7.04985815, ..., 7.04279774, 7.04985815,\n",
       "        7.05692568]])"
      ]
     },
     "execution_count": 27,
     "metadata": {},
     "output_type": "execute_result"
    }
   ],
   "source": [
    "z"
   ]
  },
  {
   "cell_type": "code",
   "execution_count": 29,
   "id": "78c81ae8",
   "metadata": {},
   "outputs": [
    {
     "data": {
      "text/plain": [
       "Text(0.5, 1.0, 'Image plot of $\\\\sqrt{x^2+y^2}$ for a grid of values')"
      ]
     },
     "execution_count": 29,
     "metadata": {},
     "output_type": "execute_result"
    },
    {
     "data": {
      "image/png": "[encoded data removed]",
      "text/plain": [
       "<Figure size 432x288 with 2 Axes>"
      ]
     },
     "metadata": {
      "needs_background": "light"
     },
     "output_type": "display_data"
    }
   ],
   "source": [
    "import matplotlib.pyplot as plt\n",
    "plt.imshow(z,cmap=plt.cm.gray);plt.colorbar()\n",
    "plt.title('Image plot of $\\sqrt{x^2+y^2}$ for a grid of values')"
   ]
  },
  {
   "cell_type": "markdown",
   "id": "3b593896",
   "metadata": {},
   "source": [
    "4. `np.where(condi,xarr-true,yarr-false)` choose from `xarr-true` when condi, else from `yarr-false`. Note the `xarr-true` and `yarr-false` can be scalars or ndarray."
   ]
  },
  {
   "cell_type": "markdown",
   "id": "ff36c48c",
   "metadata": {},
   "source": [
    "# Linear Algebra\n",
    "\n",
    "Multiplying two two-dimentional arrays with `*` is an element-wise product instead of a matrix dot product. Thus we need some functions to do linear algebra in Numpy.\n",
    "\n",
    "- Matrix multiply:`x@y`,`np.dot(x,y)`,`x.dot(y)`\n",
    "- For other linear algebra computations, find them in a sub-library. `from numpy.linalg import`"
   ]
  },
  {
   "cell_type": "code",
   "execution_count": 30,
   "id": "286e4326",
   "metadata": {},
   "outputs": [
    {
     "data": {
      "text/plain": [
       "array([[1, 2, 3],\n",
       "       [4, 5, 6]])"
      ]
     },
     "execution_count": 30,
     "metadata": {},
     "output_type": "execute_result"
    }
   ],
   "source": [
    "x = np.arange(1,7).reshape((2,3))\n",
    "x"
   ]
  },
  {
   "cell_type": "code",
   "execution_count": 31,
   "id": "37fb04fb",
   "metadata": {},
   "outputs": [
    {
     "data": {
      "text/plain": [
       "array([[ 6, 23],\n",
       "       [-1,  7],\n",
       "       [ 8,  9]])"
      ]
     },
     "execution_count": 31,
     "metadata": {},
     "output_type": "execute_result"
    }
   ],
   "source": [
    "y = np.array([6,23,-1,7,8,9]).reshape((3,2))\n",
    "y"
   ]
  },
  {
   "cell_type": "code",
   "execution_count": 32,
   "id": "d2bfa621",
   "metadata": {},
   "outputs": [
    {
     "data": {
      "text/plain": [
       "array([[ 28,  64],\n",
       "       [ 67, 181]])"
      ]
     },
     "execution_count": 32,
     "metadata": {},
     "output_type": "execute_result"
    }
   ],
   "source": [
    "x.dot(y)"
   ]
  },
  {
   "cell_type": "code",
   "execution_count": 33,
   "id": "0013950e",
   "metadata": {},
   "outputs": [
    {
     "data": {
      "text/plain": [
       "array([[ 28,  64],\n",
       "       [ 67, 181]])"
      ]
     },
     "execution_count": 33,
     "metadata": {},
     "output_type": "execute_result"
    }
   ],
   "source": [
    "np.dot(x,y)"
   ]
  },
  {
   "cell_type": "code",
   "execution_count": 34,
   "id": "98adf2bd",
   "metadata": {},
   "outputs": [
    {
     "data": {
      "text/plain": [
       "array([[ 28,  64],\n",
       "       [ 67, 181]])"
      ]
     },
     "execution_count": 34,
     "metadata": {},
     "output_type": "execute_result"
    }
   ],
   "source": [
    "x@y"
   ]
  },
  {
   "cell_type": "code",
   "execution_count": 36,
   "id": "7f881d80",
   "metadata": {},
   "outputs": [
    {
     "data": {
      "text/plain": [
       "array([[ 1.57332115,  1.06869951,  1.41095559, -1.14533941,  0.6075189 ],\n",
       "       [ 0.1882541 ,  0.14654617, -0.79156641, -0.68212775, -0.46053858],\n",
       "       [ 1.28055164,  0.07593075,  1.33190304, -0.40132665, -1.53359355],\n",
       "       [ 1.18648757, -0.71242041,  1.27815184,  0.43629435, -0.31709894],\n",
       "       [ 1.32760051,  0.57256056,  0.29860125, -0.09398968,  0.65856952]])"
      ]
     },
     "execution_count": 36,
     "metadata": {},
     "output_type": "execute_result"
    }
   ],
   "source": [
    "from numpy.linalg import inv,qr\n",
    "X = np.random.randn(5,5)\n",
    "X"
   ]
  },
  {
   "cell_type": "code",
   "execution_count": 38,
   "id": "98a39ef8",
   "metadata": {},
   "outputs": [
    {
     "data": {
      "text/plain": [
       "array([[ 7.32086742,  1.72108242,  5.6893757 , -2.05144249, -0.59663841],\n",
       "       [ 1.72108242,  2.00472833,  0.75340474, -1.71909969,  1.06829677],\n",
       "       [ 5.6893757 ,  0.75340474,  6.11417358, -1.08101682, -1.02951976],\n",
       "       [-2.05144249, -1.71909969, -1.08101682,  2.13735053,  0.03355554],\n",
       "       [-0.59663841,  1.06829677, -1.02951976,  0.03355554,  3.46734972]])"
      ]
     },
     "execution_count": 38,
     "metadata": {},
     "output_type": "execute_result"
    }
   ],
   "source": [
    "mat = X.T.dot(X)\n",
    "mat"
   ]
  },
  {
   "cell_type": "code",
   "execution_count": 39,
   "id": "fbb59d70",
   "metadata": {},
   "outputs": [
    {
     "data": {
      "text/plain": [
       "array([[ 0.70449715, -0.19948008, -0.59191429,  0.21628528,  0.00484201],\n",
       "       [-0.19948008,  3.78622725,  0.02339385,  2.88486553, -1.22184116],\n",
       "       [-0.59191429,  0.02339385,  0.69259105, -0.20055915,  0.09852357],\n",
       "       [ 0.21628528,  2.88486553, -0.20055915,  2.90910624, -0.93931819],\n",
       "       [ 0.00484201, -1.22184116,  0.09852357, -0.93931819,  0.70403316]])"
      ]
     },
     "execution_count": 39,
     "metadata": {},
     "output_type": "execute_result"
    }
   ],
   "source": [
    "inv(mat)"
   ]
  },
  {
   "cell_type": "code",
   "execution_count": 41,
   "id": "fc4381d6",
   "metadata": {},
   "outputs": [
    {
     "data": {
      "text/plain": [
       "array([[ 1., -0.,  0.,  0., -0.],\n",
       "       [-0.,  1.,  0., -0.,  0.],\n",
       "       [-0., -0.,  1.,  0., -0.],\n",
       "       [ 0., -0.,  0.,  1.,  0.],\n",
       "       [ 0.,  0., -0.,  0.,  1.]])"
      ]
     },
     "execution_count": 41,
     "metadata": {},
     "output_type": "execute_result"
    }
   ],
   "source": [
    "mat.dot(inv(mat)).round(1)"
   ]
  },
  {
   "cell_type": "code",
   "execution_count": 52,
   "id": "88de43be",
   "metadata": {},
   "outputs": [
    {
     "data": {
      "text/plain": [
       "array([[ -1,   0,   0, ...,  28,  27,  26],\n",
       "       [ -1,  -1,  -1, ...,  -2,  -1,  -1],\n",
       "       [ -1,  -1,   0, ...,  -1,  -2,  -3],\n",
       "       ...,\n",
       "       [  0,  -1,   0, ...,  -8,  -9,  -9],\n",
       "       [ -1,  -1,  -2, ..., -22, -22, -21],\n",
       "       [  0,  -1,  -2, ...,  10,  11,  11]])"
      ]
     },
     "execution_count": 52,
     "metadata": {},
     "output_type": "execute_result"
    }
   ],
   "source": [
    "nwalks = 20\n",
    "nsteps = 1000\n",
    "\n",
    "draws = np.random.randint(-1,2,size=(nwalks,nsteps))\n",
    "walks = draws.cumsum(1)\n",
    "\n",
    "walks"
   ]
  },
  {
   "cell_type": "code",
   "execution_count": 55,
   "id": "96c4a972",
   "metadata": {},
   "outputs": [
    {
     "data": {
      "text/plain": [
       "[<matplotlib.lines.Line2D at 0x7ff6af518940>]"
      ]
     },
     "execution_count": 55,
     "metadata": {},
     "output_type": "execute_result"
    },
    {
     "data": {
      "image/png": "[encoded data removed]",
      "text/plain": [
       "<Figure size 432x288 with 1 Axes>"
      ]
     },
     "metadata": {
      "needs_background": "light"
     },
     "output_type": "display_data"
    }
   ],
   "source": [
    "plt.plot(walks[1])"
   ]
  },
  {
   "cell_type": "code",
   "execution_count": null,
   "id": "b1e8f543",
   "metadata": {},
   "outputs": [],
   "source": []
  }
 ],
 "metadata": {
  "kernelspec": {
   "display_name": "Python 3 (ipykernel)",
   "language": "python",
   "name": "python3"
  },
  "language_info": {
   "codemirror_mode": {
    "name": "ipython",
    "version": 3
   },
   "file_extension": ".py",
   "mimetype": "text/x-python",
   "name": "python",
   "nbconvert_exporter": "python",
   "pygments_lexer": "ipython3",
   "version": "3.9.12"
  }
 },
 "nbformat": 4,
 "nbformat_minor": 5
}
